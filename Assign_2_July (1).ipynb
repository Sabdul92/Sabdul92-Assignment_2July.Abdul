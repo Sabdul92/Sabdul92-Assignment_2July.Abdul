{
 "cells": [
  {
   "cell_type": "code",
   "execution_count": null,
   "id": "d4e069bb",
   "metadata": {},
   "outputs": [],
   "source": [
    "Q.1. Explain what inheritance is in object-oriented programming and why it is used.\n",
    "\n",
    "\n",
    "An:- In object-oriented programming (OOP), inheritance is a mechanism that allows a class to inherit properties and \n",
    "behaviors from another class. It is a fundamental concept in OOP that promotes code reuse and establishes relationships\n",
    "between classes."
   ]
  },
  {
   "cell_type": "code",
   "execution_count": null,
   "id": "fef325cd",
   "metadata": {},
   "outputs": [],
   "source": [
    "Q. 2. Discuss the concept of single inheritance and multiple inheritance, highlighting their\n",
    "differences and advantages.\n",
    "\n",
    "Ans:- In the case of single inheritance, the derived class performs the inheritance of a single base class. \n",
    "    In the case of multiple inheritance, the derived class can acquire multiple base classes. The derived classes \n",
    "    can utilize the features that belong to a single base class.\n",
    "    "
   ]
  },
  {
   "cell_type": "code",
   "execution_count": null,
   "id": "c514eb5c",
   "metadata": {},
   "outputs": [],
   "source": [
    "Q.3. Explain the terms \"base class\" and \"derived class\" in the context of inheritance.\n",
    "\n",
    "Ans:- Inheritance is a feature of object-oriented programming languages that allows you to define a base class that provides \n",
    "specific functionality (data and behavior) and to define derived classes that either inherit or override that functionality."
   ]
  },
  {
   "cell_type": "code",
   "execution_count": null,
   "id": "5f8a9771",
   "metadata": {},
   "outputs": [],
   "source": [
    "4. What is the significance of the \"protected\" access modifier in inheritance? How does\n",
    "it differ from \"private\" and \"public\" modifiers?\n",
    "\n",
    "Ans:-The protected keyword restricts access to functions and variables to a specific class and its derived classes. \n",
    "    The private keyword limits access to functions and variables to a single class."
   ]
  },
  {
   "cell_type": "code",
   "execution_count": null,
   "id": "06121fa9",
   "metadata": {},
   "outputs": [],
   "source": [
    "5. What is the purpose of the \"super\" keyword in inheritance? Provide an example.\n",
    "\n",
    "Ans:- as a reference variable to access objects from parent classes, allowing access to parent class constructors, \n",
    "    members, and methods in the derived class. I"
   ]
  },
  {
   "cell_type": "code",
   "execution_count": 17,
   "id": "caf72bc4",
   "metadata": {},
   "outputs": [],
   "source": [
    "'''6. Create a base class called \"Vehicle\" with attributes like \"make\", \"model\", and \"year\".\n",
    "Then, create a derived class called \"Car\" that inherits from \"Vehicle\" and adds an\n",
    "attribute called \"fuel_type\". Implement appropriate methods in both classes. '''\n",
    "\n",
    "class Vehicle:\n",
    "    def __init__(self,make,model,year):\n",
    "        self.make=make\n",
    "        self.model=model\n",
    "        self.year=year\n",
    "        \n",
    "    def start(self):\n",
    "        print(f\"the {self.make} model {self.model} & year {self.year} is starting\")\n",
    "            "
   ]
  },
  {
   "cell_type": "code",
   "execution_count": 18,
   "id": "8754498d",
   "metadata": {},
   "outputs": [],
   "source": [
    "class Car(Vehicle):\n",
    "    def __init__(self,Vehicle,adds):\n",
    "        super().__init__(Vehicle)\n",
    "        self.adds=adds\n",
    "        \n",
    "    def start(self):\n",
    "        super().start()\n",
    "        print(f\" the {self.Vehicle} {self.model} is ready to go\")\n",
    "        "
   ]
  },
  {
   "cell_type": "code",
   "execution_count": 19,
   "id": "5035d669",
   "metadata": {},
   "outputs": [
    {
     "name": "stdout",
     "output_type": "stream",
     "text": [
      "the Hero model V2s & year 2022 is starting\n"
     ]
    }
   ],
   "source": [
    "vehicle=Vehicle(\"Hero\", \"V2s\",2022)\n",
    "vehicle.start()"
   ]
  },
  {
   "cell_type": "code",
   "execution_count": null,
   "id": "746c054b-4862-46ac-b4e0-5e0243fbe444",
   "metadata": {},
   "outputs": [],
   "source": [
    "'''7. Create a base class called \"Employee\" with attributes like \"name\" and \"salary.\"\n",
    "Derive two classes, \"Manager\" and \"Developer,\" from \"Employee.\" Add an additional\n",
    "attribute called \"department\" for the \"Manager\" class and \"programming_language\"\n",
    "for the \"Developer\" class.'''\n",
    "\n",
    "class Employee:\n",
    "    def __init__(self,name,salary):\n",
    "        self.name=name\n",
    "        self.salary=salary\n",
    "        \n",
    "    def start(self):\n",
    "        print(f\" the {self.name} {self.salary} is granted\")\n"
   ]
  }
 ],
 "metadata": {
  "kernelspec": {
   "display_name": "Python 3 (ipykernel)",
   "language": "python",
   "name": "python3"
  },
  "language_info": {
   "codemirror_mode": {
    "name": "ipython",
    "version": 3
   },
   "file_extension": ".py",
   "mimetype": "text/x-python",
   "name": "python",
   "nbconvert_exporter": "python",
   "pygments_lexer": "ipython3",
   "version": "3.10.6"
  }
 },
 "nbformat": 4,
 "nbformat_minor": 5
}
